{
 "cells": [
  {
   "cell_type": "markdown",
   "metadata": {
    "colab_type": "text",
    "id": "ByNT-tdXm8g-"
   },
   "source": [
    "## Description\n",
    "This code replicates the model discussed in the following research\n",
    "> A. Chadha, R. Dara and Z. Poljak, \"Convolutional Classification of Pathogenicity in H5 Avian Influenza Strains,\" 2019 18th IEEE International Conference On Machine Learning And Applications (ICMLA), Boca Raton, FL, USA, 2019, pp. 1570-1577.\n",
    "\n",
    "- Within research 1202 HP sequences, 1167 LP sequences were used which were gathered from various sources such as https://www.fludb.org.  \n",
    "\n",
    "- This code has yet to collect relevant number of data and works with only 133 HP sequences and 750 LP sequences  \n",
    "- These sequences were collected from https://www.fludb.org only  \n",
    "- They are all HA segments of H5 avian influenza virus of various kinds  \n",
    "- These HA segments are aligned using MUSCLE (Multiple Sequence Comparison by Log-Expectation) algorithm, available [here](https://www.fludb.org/brc/msa.spg?method=ShowCleanInputPage&decorator=influenza)  \n"
   ]
  },
  {
   "cell_type": "code",
   "execution_count": 1,
   "metadata": {
    "colab": {},
    "colab_type": "code",
    "id": "lBkPHmIKm8hC"
   },
   "outputs": [],
   "source": [
    "import numpy as np\n",
    "import pandas as pd\n",
    "import tensorflow as tf\n",
    "from tensorflow.keras.layers import Conv1D, MaxPool1D, Flatten, Dense\n",
    "from sklearn.preprocessing import LabelEncoder\n",
    "from tensorflow.keras import Sequential, utils\n",
    "from tensorflow.keras.optimizers import RMSprop\n",
    "from sklearn.model_selection import train_test_split\n",
    "from sklearn.metrics import classification_report\n",
    "from sklearn.metrics import precision_score\n",
    "from random import shuffle"
   ]
  },
  {
   "cell_type": "code",
   "execution_count": 2,
   "metadata": {
    "colab": {
     "base_uri": "https://localhost:8080/",
     "height": 50
    },
    "colab_type": "code",
    "id": "-Qo-j2wsm8hS",
    "outputId": "f4d9f921-cd46-4021-aa58-0c5a2ab87962"
   },
   "outputs": [
    {
     "name": "stdout",
     "output_type": "stream",
     "text": [
      "Highly Pathogenic cases: 938\n",
      "Low Pathogenic cases: 862\n",
      "(1800,)\n"
     ]
    }
   ],
   "source": [
    "# Load data in records, and outputs in y\n",
    "data = pd.read_csv(\"./H5.csv\")\n",
    "data = data.iloc[:1800]\n",
    "records = data[\"HA\"].apply(lambda x: np.array(list(x))).values\n",
    "y = data[\"Pathogenicity\"].values\n",
    "\n",
    "print('Highly Pathogenic cases:', np.count_nonzero(y==\"HP\"))\n",
    "print('Low Pathogenic cases:', np.count_nonzero(y==\"LP\"))\n",
    "print(records.shape)"
   ]
  },
  {
   "cell_type": "code",
   "execution_count": 3,
   "metadata": {
    "colab": {},
    "colab_type": "code",
    "id": "jb2vOmCAm8hh"
   },
   "outputs": [],
   "source": [
    "# preprocess input data\n",
    "sequence = records\n",
    "le_1 = LabelEncoder()\n",
    "y = le_1.fit_transform(y) \n",
    "y = tf.one_hot(y, 2)"
   ]
  },
  {
   "cell_type": "code",
   "execution_count": 4,
   "metadata": {
    "colab": {
     "base_uri": "https://localhost:8080/",
     "height": 34
    },
    "colab_type": "code",
    "id": "ZDhr84FNw0bL",
    "outputId": "b40d5d4a-55c5-4379-aaf9-a4fc98eda899"
   },
   "outputs": [
    {
     "name": "stdout",
     "output_type": "stream",
     "text": [
      "(samples, proteins, one-hot-encoding) :: (1800, 589, 21)\n"
     ]
    }
   ],
   "source": [
    "le = LabelEncoder()\n",
    "seqEncoded = np.zeros((len(records),len(records[0])), dtype=int)\n",
    "for i, seq in enumerate(sequence):\n",
    "    seqEncoded[i] = le.fit_transform(seq)\n",
    "\n",
    "oneHotSeq = tf.one_hot(seqEncoded, depth=21).numpy()\n",
    "\n",
    "# remove alignment character's one hot\n",
    "for seq in oneHotSeq:\n",
    "    for protein in seq:\n",
    "        if protein[0] == 1:\n",
    "            protein[0] = 0\n",
    "print('(samples, proteins, one-hot-encoding) ::',oneHotSeq.shape)"
   ]
  },
  {
   "cell_type": "code",
   "execution_count": 5,
   "metadata": {
    "colab": {
     "base_uri": "https://localhost:8080/",
     "height": 252
    },
    "colab_type": "code",
    "id": "VUwmufveAWXO",
    "outputId": "de2c9dbf-80b9-4322-f49d-c2a68682013e"
   },
   "outputs": [
    {
     "name": "stdout",
     "output_type": "stream",
     "text": [
      "[0. 0. 0. 0. 0. 0. 0. 0. 0. 0. 0. 1. 0. 0. 0. 0. 0. 0. 0. 0. 0.]\n"
     ]
    }
   ],
   "source": [
    "print(oneHotSeq[0][0])"
   ]
  },
  {
   "cell_type": "code",
   "execution_count": 6,
   "metadata": {
    "colab": {
     "base_uri": "https://localhost:8080/",
     "height": 218
    },
    "colab_type": "code",
    "id": "se8Kcw7S3hf5",
    "outputId": "ce870628-728e-4e36-e3be-d945a2f4ac1c"
   },
   "outputs": [
    {
     "name": "stdout",
     "output_type": "stream",
     "text": [
      "[[0. 0. 0. ... 0. 0. 0.]\n",
      " [0. 0. 0. ... 0. 0. 0.]\n",
      " [0. 0. 0. ... 0. 0. 0.]\n",
      " ...\n",
      " [0. 0. 0. ... 0. 0. 0.]\n",
      " [0. 0. 0. ... 0. 0. 0.]\n",
      " [0. 0. 0. ... 0. 0. 0.]]\n",
      "1350\n",
      "1350\n",
      "450\n",
      "450\n",
      "1800 1800\n"
     ]
    }
   ],
   "source": [
    "trainTestValues=[]\n",
    "noOfEntries=oneHotSeq.shape[0]\n",
    "for i in range(noOfEntries):\n",
    "  itemArray=[oneHotSeq[i],y[i]]\n",
    "  trainTestValues.append(itemArray)\n",
    "shuffle(trainTestValues)\n",
    "testSplitIndex=int(noOfEntries*0.75)\n",
    "train=trainTestValues[:testSplitIndex]\n",
    "test=trainTestValues[testSplitIndex:]\n",
    "X_train=[i[0] for i in train]\n",
    "X_train=np.array(X_train)\n",
    "print(X_train[0])\n",
    "y_train=[i[1] for i in train]\n",
    "X_test=[i[0] for i in test]\n",
    "y_test=[i[1] for i in test]\n",
    "print(len(X_train))\n",
    "print(len(y_train))\n",
    "print(len(X_test))\n",
    "print(len(y_test))\n",
    "print(len(X_train)+len(X_test),noOfEntries)\n",
    "#X_train,y_train,X_test,y_test = train_test_split(oneHotSeq,y,test_size=0.25)"
   ]
  },
  {
   "cell_type": "code",
   "execution_count": 36,
   "metadata": {
    "colab": {
     "base_uri": "https://localhost:8080/",
     "height": 286
    },
    "colab_type": "code",
    "id": "sBrG8nGpm8hs",
    "outputId": "d66bc888-7613-40b7-9ca6-c3c4b75271c2"
   },
   "outputs": [
    {
     "name": "stdout",
     "output_type": "stream",
     "text": [
      "Model: \"sequential_4\"\n",
      "_________________________________________________________________\n",
      "Layer (type)                 Output Shape              Param #   \n",
      "=================================================================\n",
      "conv1d_4 (Conv1D)            (None, 294, 20)           860       \n",
      "_________________________________________________________________\n",
      "max_pooling1d_4 (MaxPooling1 (None, 147, 20)           0         \n",
      "_________________________________________________________________\n",
      "flatten_4 (Flatten)          (None, 2940)              0         \n",
      "_________________________________________________________________\n",
      "dense_4 (Dense)              (None, 2)                 5882      \n",
      "=================================================================\n",
      "Total params: 6,742\n",
      "Trainable params: 6,742\n",
      "Non-trainable params: 0\n",
      "_________________________________________________________________\n"
     ]
    }
   ],
   "source": [
    "# building Model: Sequqntial\n",
    "model = Sequential()\n",
    "\n",
    "model.add(Conv1D(20,\n",
    "                 kernel_size=2,\n",
    "                 strides=2,\n",
    "                 activation='relu',\n",
    "                 input_shape=(oneHotSeq.shape[1], oneHotSeq.shape[2],)))\n",
    "model.add(MaxPool1D(pool_size=2,\n",
    "                    strides=2,\n",
    "                    padding='valid'))\n",
    "model.add(Flatten())\n",
    "model.add(Dense(2,activation='softmax'))\n",
    "model.summary()\n",
    "\n",
    "#building Model: Functional\n",
    "inp=Input(shape=(oneHotSeq.shape[1], oneHotSeq.shape[2],))\n",
    "\n",
    "convulational=Conv1D(20,\n",
    "                     kernel_size=2, \n",
    "                     strides=2, \n",
    "                     activation='relu')(inp)\n",
    "\n",
    "Maxpooling=MaxPool1D(pool_size=2, \n",
    "                     strides=2, \n",
    "                     padding = 'valid')(convulational)\n",
    "\n",
    "flattening= Flatten()(Maxpooling)\n",
    "\n",
    "denselayer=Dense(2,\n",
    "                 activation='softmax')(flattening)\n",
    "\n",
    "model=Model(inputs=inp, outputs=denslayer)\n",
    "model.summary()"
   ]
  },
  {
   "cell_type": "code",
   "execution_count": 37,
   "metadata": {
    "colab": {},
    "colab_type": "code",
    "id": "YXkXmkgWm8h2"
   },
   "outputs": [],
   "source": [
    "# compiling model\n",
    "optimizer = tf.keras.optimizers.Adam(learning_rate=0.001)\n",
    "model.compile(loss='binary_crossentropy',\n",
    "              optimizer=optimizer,\n",
    "              metrics=['accuracy'])"
   ]
  },
  {
   "cell_type": "code",
   "execution_count": 38,
   "metadata": {
    "colab": {},
    "colab_type": "code",
    "id": "xIyzYbg8m8h_"
   },
   "outputs": [
    {
     "name": "stdout",
     "output_type": "stream",
     "text": [
      "WARNING:tensorflow:sample_weight modes were coerced from\n",
      "  ...\n",
      "    to  \n",
      "  ['...']\n",
      "WARNING:tensorflow:sample_weight modes were coerced from\n",
      "  ...\n",
      "    to  \n",
      "  ['...']\n",
      "Train on 1080 samples, validate on 270 samples\n",
      "Epoch 1/100\n",
      "1080/1080 [==============================] - 1s 998us/sample - loss: 0.7325 - accuracy: 0.7713 - val_loss: 0.3553 - val_accuracy: 0.9259\n",
      "Epoch 2/100\n",
      "1080/1080 [==============================] - 0s 268us/sample - loss: 0.2785 - accuracy: 0.9370 - val_loss: 0.2809 - val_accuracy: 0.9259\n",
      "Epoch 3/100\n",
      "1080/1080 [==============================] - 0s 293us/sample - loss: 0.2253 - accuracy: 0.9380 - val_loss: 0.2336 - val_accuracy: 0.9259\n",
      "Epoch 4/100\n",
      "1080/1080 [==============================] - 0s 268us/sample - loss: 0.1848 - accuracy: 0.9491 - val_loss: 0.2427 - val_accuracy: 0.9333\n",
      "Epoch 5/100\n",
      "1080/1080 [==============================] - 0s 283us/sample - loss: 0.1480 - accuracy: 0.9602 - val_loss: 0.1610 - val_accuracy: 0.9481\n",
      "Epoch 6/100\n",
      "1080/1080 [==============================] - 0s 291us/sample - loss: 0.1294 - accuracy: 0.9676 - val_loss: 0.1392 - val_accuracy: 0.9630\n",
      "Epoch 7/100\n",
      "1080/1080 [==============================] - 0s 282us/sample - loss: 0.0980 - accuracy: 0.9713 - val_loss: 0.1201 - val_accuracy: 0.9815\n",
      "Epoch 8/100\n",
      "1080/1080 [==============================] - 0s 344us/sample - loss: 0.0812 - accuracy: 0.9796 - val_loss: 0.0926 - val_accuracy: 0.9704\n",
      "Epoch 9/100\n",
      "1080/1080 [==============================] - 0s 330us/sample - loss: 0.0639 - accuracy: 0.9861 - val_loss: 0.0878 - val_accuracy: 0.9630\n",
      "Epoch 10/100\n",
      "1080/1080 [==============================] - 0s 254us/sample - loss: 0.0562 - accuracy: 0.9861 - val_loss: 0.0674 - val_accuracy: 0.9852\n",
      "Epoch 11/100\n",
      "1080/1080 [==============================] - 0s 267us/sample - loss: 0.0418 - accuracy: 0.9898 - val_loss: 0.0532 - val_accuracy: 0.9852\n",
      "Epoch 12/100\n",
      "1080/1080 [==============================] - 0s 286us/sample - loss: 0.0339 - accuracy: 0.9917 - val_loss: 0.0430 - val_accuracy: 0.9852\n",
      "Epoch 13/100\n",
      "1080/1080 [==============================] - 0s 255us/sample - loss: 0.0271 - accuracy: 0.9944 - val_loss: 0.0370 - val_accuracy: 0.9963\n",
      "Epoch 14/100\n",
      "1080/1080 [==============================] - 0s 245us/sample - loss: 0.0242 - accuracy: 0.9972 - val_loss: 0.0462 - val_accuracy: 0.9852\n",
      "Epoch 15/100\n",
      "1080/1080 [==============================] - 0s 271us/sample - loss: 0.0197 - accuracy: 0.9963 - val_loss: 0.0310 - val_accuracy: 0.9963\n",
      "Epoch 16/100\n",
      "1080/1080 [==============================] - 0s 277us/sample - loss: 0.0156 - accuracy: 0.9963 - val_loss: 0.0255 - val_accuracy: 0.9926\n",
      "Epoch 17/100\n",
      "1080/1080 [==============================] - 0s 249us/sample - loss: 0.0129 - accuracy: 0.9991 - val_loss: 0.0308 - val_accuracy: 0.9852\n",
      "Epoch 18/100\n",
      "1080/1080 [==============================] - 0s 248us/sample - loss: 0.0107 - accuracy: 0.9991 - val_loss: 0.0210 - val_accuracy: 1.0000\n",
      "Epoch 19/100\n",
      "1080/1080 [==============================] - 0s 271us/sample - loss: 0.0103 - accuracy: 0.9981 - val_loss: 0.0170 - val_accuracy: 0.9963\n",
      "Epoch 20/100\n",
      "1080/1080 [==============================] - 0s 258us/sample - loss: 0.0083 - accuracy: 0.9991 - val_loss: 0.0151 - val_accuracy: 0.9963\n",
      "Epoch 21/100\n",
      "1080/1080 [==============================] - 0s 236us/sample - loss: 0.0064 - accuracy: 1.0000 - val_loss: 0.0143 - val_accuracy: 0.9963\n",
      "Epoch 22/100\n",
      "1080/1080 [==============================] - 0s 237us/sample - loss: 0.0061 - accuracy: 1.0000 - val_loss: 0.0156 - val_accuracy: 0.9963\n",
      "Epoch 23/100\n",
      "1080/1080 [==============================] - 0s 270us/sample - loss: 0.0053 - accuracy: 1.0000 - val_loss: 0.0136 - val_accuracy: 0.9963\n",
      "Epoch 24/100\n",
      "1080/1080 [==============================] - 0s 246us/sample - loss: 0.0043 - accuracy: 1.0000 - val_loss: 0.0129 - val_accuracy: 0.9963\n",
      "Epoch 25/100\n",
      "1080/1080 [==============================] - 0s 242us/sample - loss: 0.0044 - accuracy: 1.0000 - val_loss: 0.0146 - val_accuracy: 0.9963\n",
      "Epoch 26/100\n",
      "1080/1080 [==============================] - 0s 243us/sample - loss: 0.0033 - accuracy: 1.0000 - val_loss: 0.0105 - val_accuracy: 0.9963\n",
      "Epoch 27/100\n",
      "1080/1080 [==============================] - 0s 259us/sample - loss: 0.0030 - accuracy: 1.0000 - val_loss: 0.0103 - val_accuracy: 0.9963\n",
      "Epoch 28/100\n",
      "1080/1080 [==============================] - 0s 245us/sample - loss: 0.0030 - accuracy: 1.0000 - val_loss: 0.0105 - val_accuracy: 0.9963\n",
      "Epoch 29/100\n",
      "1080/1080 [==============================] - 0s 254us/sample - loss: 0.0023 - accuracy: 1.0000 - val_loss: 0.0105 - val_accuracy: 0.9963\n",
      "Epoch 30/100\n",
      "1080/1080 [==============================] - 0s 238us/sample - loss: 0.0023 - accuracy: 1.0000 - val_loss: 0.0096 - val_accuracy: 0.9963\n",
      "Epoch 31/100\n",
      "1080/1080 [==============================] - 0s 258us/sample - loss: 0.0021 - accuracy: 1.0000 - val_loss: 0.0092 - val_accuracy: 0.9963\n",
      "Epoch 32/100\n",
      "1080/1080 [==============================] - 0s 249us/sample - loss: 0.0018 - accuracy: 1.0000 - val_loss: 0.0092 - val_accuracy: 0.9963\n",
      "Epoch 33/100\n",
      "1080/1080 [==============================] - 0s 239us/sample - loss: 0.0017 - accuracy: 1.0000 - val_loss: 0.0095 - val_accuracy: 0.9963\n",
      "Epoch 34/100\n",
      "1080/1080 [==============================] - 0s 274us/sample - loss: 0.0017 - accuracy: 1.0000 - val_loss: 0.0099 - val_accuracy: 0.9963\n",
      "Epoch 35/100\n",
      "1080/1080 [==============================] - 0s 253us/sample - loss: 0.0014 - accuracy: 1.0000 - val_loss: 0.0085 - val_accuracy: 0.9963\n",
      "Epoch 36/100\n",
      "1080/1080 [==============================] - 0s 230us/sample - loss: 0.0015 - accuracy: 1.0000 - val_loss: 0.0092 - val_accuracy: 0.9963\n",
      "Epoch 37/100\n",
      "1080/1080 [==============================] - 0s 244us/sample - loss: 0.0013 - accuracy: 1.0000 - val_loss: 0.0086 - val_accuracy: 0.9963\n",
      "Epoch 38/100\n",
      "1080/1080 [==============================] - 0s 253us/sample - loss: 0.0012 - accuracy: 1.0000 - val_loss: 0.0081 - val_accuracy: 0.9963\n",
      "Epoch 39/100\n",
      "1080/1080 [==============================] - 0s 249us/sample - loss: 0.0011 - accuracy: 1.0000 - val_loss: 0.0096 - val_accuracy: 0.9963\n",
      "Epoch 40/100\n",
      "1080/1080 [==============================] - 0s 262us/sample - loss: 0.0011 - accuracy: 1.0000 - val_loss: 0.0101 - val_accuracy: 0.9963\n",
      "Epoch 41/100\n",
      "1080/1080 [==============================] - 0s 257us/sample - loss: 0.0011 - accuracy: 1.0000 - val_loss: 0.0081 - val_accuracy: 0.9963\n",
      "Epoch 42/100\n",
      "1080/1080 [==============================] - 0s 277us/sample - loss: 8.7372e-04 - accuracy: 1.0000 - val_loss: 0.0086 - val_accuracy: 0.9963\n",
      "Epoch 43/100\n",
      "1080/1080 [==============================] - 0s 298us/sample - loss: 8.2705e-04 - accuracy: 1.0000 - val_loss: 0.0077 - val_accuracy: 0.9963\n",
      "Epoch 44/100\n",
      "1080/1080 [==============================] - 0s 303us/sample - loss: 8.0840e-04 - accuracy: 1.0000 - val_loss: 0.0092 - val_accuracy: 0.9963\n",
      "Epoch 45/100\n",
      "1080/1080 [==============================] - 0s 270us/sample - loss: 8.0395e-04 - accuracy: 1.0000 - val_loss: 0.0090 - val_accuracy: 0.9963\n",
      "Epoch 46/100\n",
      "1080/1080 [==============================] - 0s 276us/sample - loss: 6.7841e-04 - accuracy: 1.0000 - val_loss: 0.0079 - val_accuracy: 0.9963\n",
      "Epoch 47/100\n",
      "1080/1080 [==============================] - 0s 274us/sample - loss: 6.5031e-04 - accuracy: 1.0000 - val_loss: 0.0093 - val_accuracy: 0.9963\n",
      "Epoch 48/100\n",
      "1080/1080 [==============================] - 0s 276us/sample - loss: 6.3608e-04 - accuracy: 1.0000 - val_loss: 0.0091 - val_accuracy: 0.9963\n",
      "Epoch 49/100\n",
      "1080/1080 [==============================] - 0s 322us/sample - loss: 5.9302e-04 - accuracy: 1.0000 - val_loss: 0.0083 - val_accuracy: 0.9963\n",
      "Epoch 50/100\n",
      "1080/1080 [==============================] - 0s 300us/sample - loss: 5.8981e-04 - accuracy: 1.0000 - val_loss: 0.0079 - val_accuracy: 0.9963\n",
      "Epoch 51/100\n",
      "1080/1080 [==============================] - 0s 304us/sample - loss: 5.1763e-04 - accuracy: 1.0000 - val_loss: 0.0087 - val_accuracy: 0.9963\n",
      "Epoch 52/100\n",
      "1080/1080 [==============================] - 0s 304us/sample - loss: 4.9871e-04 - accuracy: 1.0000 - val_loss: 0.0087 - val_accuracy: 0.9963\n",
      "Epoch 53/100\n",
      "1080/1080 [==============================] - 0s 318us/sample - loss: 4.9708e-04 - accuracy: 1.0000 - val_loss: 0.0102 - val_accuracy: 0.9963\n"
     ]
    },
    {
     "name": "stdout",
     "output_type": "stream",
     "text": [
      "Epoch 54/100\n",
      "1080/1080 [==============================] - 0s 315us/sample - loss: 4.6019e-04 - accuracy: 1.0000 - val_loss: 0.0083 - val_accuracy: 0.9963\n",
      "Epoch 55/100\n",
      "1080/1080 [==============================] - 0s 253us/sample - loss: 4.2151e-04 - accuracy: 1.0000 - val_loss: 0.0080 - val_accuracy: 0.9963\n",
      "Epoch 56/100\n",
      "1080/1080 [==============================] - 0s 310us/sample - loss: 4.0405e-04 - accuracy: 1.0000 - val_loss: 0.0094 - val_accuracy: 0.9963\n",
      "Epoch 57/100\n",
      "1080/1080 [==============================] - 0s 278us/sample - loss: 3.7187e-04 - accuracy: 1.0000 - val_loss: 0.0087 - val_accuracy: 0.9963\n",
      "Epoch 58/100\n",
      "1080/1080 [==============================] - 0s 271us/sample - loss: 3.4402e-04 - accuracy: 1.0000 - val_loss: 0.0074 - val_accuracy: 0.9963\n",
      "Epoch 59/100\n",
      "1080/1080 [==============================] - 0s 288us/sample - loss: 3.6931e-04 - accuracy: 1.0000 - val_loss: 0.0085 - val_accuracy: 0.9963\n",
      "Epoch 60/100\n",
      "1080/1080 [==============================] - 0s 317us/sample - loss: 3.2023e-04 - accuracy: 1.0000 - val_loss: 0.0077 - val_accuracy: 0.9963\n",
      "Epoch 61/100\n",
      "1080/1080 [==============================] - 0s 288us/sample - loss: 3.0835e-04 - accuracy: 1.0000 - val_loss: 0.0078 - val_accuracy: 0.9963\n",
      "Epoch 62/100\n",
      "1080/1080 [==============================] - 0s 273us/sample - loss: 2.9329e-04 - accuracy: 1.0000 - val_loss: 0.0085 - val_accuracy: 0.9963\n",
      "Epoch 63/100\n",
      "1080/1080 [==============================] - 0s 275us/sample - loss: 2.7695e-04 - accuracy: 1.0000 - val_loss: 0.0078 - val_accuracy: 0.9963\n",
      "Epoch 64/100\n",
      "1080/1080 [==============================] - 0s 278us/sample - loss: 2.7861e-04 - accuracy: 1.0000 - val_loss: 0.0081 - val_accuracy: 0.9963\n",
      "Epoch 65/100\n",
      "1080/1080 [==============================] - 0s 293us/sample - loss: 2.5100e-04 - accuracy: 1.0000 - val_loss: 0.0092 - val_accuracy: 0.9963\n",
      "Epoch 66/100\n",
      "1080/1080 [==============================] - 0s 294us/sample - loss: 2.4098e-04 - accuracy: 1.0000 - val_loss: 0.0085 - val_accuracy: 0.9963\n",
      "Epoch 67/100\n",
      "1080/1080 [==============================] - 0s 301us/sample - loss: 2.2567e-04 - accuracy: 1.0000 - val_loss: 0.0091 - val_accuracy: 0.9963\n",
      "Epoch 68/100\n",
      "1080/1080 [==============================] - 0s 295us/sample - loss: 2.2703e-04 - accuracy: 1.0000 - val_loss: 0.0080 - val_accuracy: 0.9963\n",
      "Epoch 69/100\n",
      "1080/1080 [==============================] - 0s 279us/sample - loss: 2.1155e-04 - accuracy: 1.0000 - val_loss: 0.0075 - val_accuracy: 0.9963\n",
      "Epoch 70/100\n",
      "1080/1080 [==============================] - 0s 301us/sample - loss: 1.9929e-04 - accuracy: 1.0000 - val_loss: 0.0084 - val_accuracy: 0.9963\n",
      "Epoch 71/100\n",
      "1080/1080 [==============================] - 0s 312us/sample - loss: 1.8934e-04 - accuracy: 1.0000 - val_loss: 0.0088 - val_accuracy: 0.9963\n",
      "Epoch 72/100\n",
      "1080/1080 [==============================] - 0s 297us/sample - loss: 1.8043e-04 - accuracy: 1.0000 - val_loss: 0.0094 - val_accuracy: 0.9963\n",
      "Epoch 73/100\n",
      "1080/1080 [==============================] - 0s 306us/sample - loss: 1.6929e-04 - accuracy: 1.0000 - val_loss: 0.0087 - val_accuracy: 0.9963\n",
      "Epoch 74/100\n",
      "1080/1080 [==============================] - 0s 290us/sample - loss: 1.6448e-04 - accuracy: 1.0000 - val_loss: 0.0087 - val_accuracy: 0.9963\n",
      "Epoch 75/100\n",
      "1080/1080 [==============================] - 0s 308us/sample - loss: 1.5983e-04 - accuracy: 1.0000 - val_loss: 0.0084 - val_accuracy: 0.9963\n",
      "Epoch 76/100\n",
      "1080/1080 [==============================] - 0s 308us/sample - loss: 1.5388e-04 - accuracy: 1.0000 - val_loss: 0.0088 - val_accuracy: 0.9963\n",
      "Epoch 77/100\n",
      "1080/1080 [==============================] - 0s 313us/sample - loss: 1.4138e-04 - accuracy: 1.0000 - val_loss: 0.0076 - val_accuracy: 0.9963\n",
      "Epoch 78/100\n",
      "1080/1080 [==============================] - 0s 313us/sample - loss: 1.3869e-04 - accuracy: 1.0000 - val_loss: 0.0089 - val_accuracy: 0.9963\n",
      "Epoch 79/100\n",
      "1080/1080 [==============================] - 0s 318us/sample - loss: 1.3231e-04 - accuracy: 1.0000 - val_loss: 0.0093 - val_accuracy: 0.9963\n",
      "Epoch 80/100\n",
      "1080/1080 [==============================] - 0s 322us/sample - loss: 1.2584e-04 - accuracy: 1.0000 - val_loss: 0.0088 - val_accuracy: 0.9963\n",
      "Epoch 81/100\n",
      "1080/1080 [==============================] - 0s 289us/sample - loss: 1.1809e-04 - accuracy: 1.0000 - val_loss: 0.0097 - val_accuracy: 0.9963\n",
      "Epoch 82/100\n",
      "1080/1080 [==============================] - 0s 314us/sample - loss: 1.1372e-04 - accuracy: 1.0000 - val_loss: 0.0082 - val_accuracy: 0.9963\n",
      "Epoch 83/100\n",
      "1080/1080 [==============================] - 0s 322us/sample - loss: 1.0936e-04 - accuracy: 1.0000 - val_loss: 0.0095 - val_accuracy: 0.9963\n",
      "Epoch 84/100\n",
      "1080/1080 [==============================] - 0s 332us/sample - loss: 1.0891e-04 - accuracy: 1.0000 - val_loss: 0.0087 - val_accuracy: 0.9963\n",
      "Epoch 85/100\n",
      "1080/1080 [==============================] - 0s 311us/sample - loss: 1.0010e-04 - accuracy: 1.0000 - val_loss: 0.0079 - val_accuracy: 0.9963\n",
      "Epoch 86/100\n",
      "1080/1080 [==============================] - 0s 322us/sample - loss: 9.9893e-05 - accuracy: 1.0000 - val_loss: 0.0101 - val_accuracy: 0.9963\n",
      "Epoch 87/100\n",
      "1080/1080 [==============================] - 0s 326us/sample - loss: 9.3796e-05 - accuracy: 1.0000 - val_loss: 0.0096 - val_accuracy: 0.9963\n",
      "Epoch 88/100\n",
      "1080/1080 [==============================] - 0s 350us/sample - loss: 8.7819e-05 - accuracy: 1.0000 - val_loss: 0.0079 - val_accuracy: 0.9963\n",
      "Epoch 89/100\n",
      "1080/1080 [==============================] - 0s 317us/sample - loss: 8.5797e-05 - accuracy: 1.0000 - val_loss: 0.0085 - val_accuracy: 0.9963\n",
      "Epoch 90/100\n",
      "1080/1080 [==============================] - 0s 307us/sample - loss: 8.1328e-05 - accuracy: 1.0000 - val_loss: 0.0096 - val_accuracy: 0.9963\n",
      "Epoch 91/100\n",
      "1080/1080 [==============================] - 0s 332us/sample - loss: 7.9633e-05 - accuracy: 1.0000 - val_loss: 0.0093 - val_accuracy: 0.9963\n",
      "Epoch 92/100\n",
      "1080/1080 [==============================] - 0s 300us/sample - loss: 7.4113e-05 - accuracy: 1.0000 - val_loss: 0.0085 - val_accuracy: 0.9963\n",
      "Epoch 93/100\n",
      "1080/1080 [==============================] - 0s 321us/sample - loss: 7.1700e-05 - accuracy: 1.0000 - val_loss: 0.0087 - val_accuracy: 0.9963\n",
      "Epoch 94/100\n",
      "1080/1080 [==============================] - 0s 309us/sample - loss: 6.9674e-05 - accuracy: 1.0000 - val_loss: 0.0097 - val_accuracy: 0.9963\n",
      "Epoch 95/100\n",
      "1080/1080 [==============================] - 0s 311us/sample - loss: 6.5992e-05 - accuracy: 1.0000 - val_loss: 0.0101 - val_accuracy: 0.9963\n",
      "Epoch 96/100\n",
      "1080/1080 [==============================] - 0s 318us/sample - loss: 6.2959e-05 - accuracy: 1.0000 - val_loss: 0.0091 - val_accuracy: 0.9963\n",
      "Epoch 97/100\n",
      "1080/1080 [==============================] - 0s 326us/sample - loss: 5.9763e-05 - accuracy: 1.0000 - val_loss: 0.0093 - val_accuracy: 0.9963\n",
      "Epoch 98/100\n",
      "1080/1080 [==============================] - 0s 316us/sample - loss: 5.9723e-05 - accuracy: 1.0000 - val_loss: 0.0091 - val_accuracy: 0.9963\n",
      "Epoch 99/100\n",
      "1080/1080 [==============================] - 0s 326us/sample - loss: 5.4946e-05 - accuracy: 1.0000 - val_loss: 0.0081 - val_accuracy: 0.9963\n",
      "Epoch 100/100\n",
      "1080/1080 [==============================] - 0s 329us/sample - loss: 5.3248e-05 - accuracy: 1.0000 - val_loss: 0.0096 - val_accuracy: 0.9963\n"
     ]
    }
   ],
   "source": [
    "# training model\n",
    "# Due to lack of data model is underfitting (training loss >> validation loss)\n",
    "class_weights = {0: 1.,\n",
    "                 1: 5}\n",
    "'''for st in range(100):\n",
    "  class_weight[1]=2.5+st*0.01\n",
    "  print(class_weight)\n",
    "  model.fit(\n",
    "    np.array(X_train), np.array(y),\n",
    "    batch_size=32,\n",
    "    epochs=1,\n",
    "    validation_split=0.3,\n",
    "    shuffle=True,\n",
    "    class_weight=class_weight\n",
    "    )'''\n",
    "history = model.fit(\n",
    "  np.array(X_train), np.array(y_train),\n",
    "  batch_size=16,\n",
    "  epochs=100,\n",
    "  validation_split=0.2,\n",
    "  shuffle=True,\n",
    "  class_weight=class_weights\n",
    ")"
   ]
  },
  {
   "cell_type": "code",
   "execution_count": 30,
   "metadata": {
    "colab": {},
    "colab_type": "code",
    "id": "zqrhDlrh3vTj"
   },
   "outputs": [
    {
     "name": "stdout",
     "output_type": "stream",
     "text": [
      "              precision    recall  f1-score   support\n",
      "\n",
      "           0       1.00      1.00      1.00       241\n",
      "           1       1.00      1.00      1.00       209\n",
      "\n",
      "   micro avg       1.00      1.00      1.00       450\n",
      "   macro avg       1.00      1.00      1.00       450\n",
      "weighted avg       1.00      1.00      1.00       450\n",
      " samples avg       1.00      1.00      1.00       450\n",
      "\n"
     ]
    }
   ],
   "source": [
    "y_pred = model.predict(np.array(X_test))\n",
    "y_pred=y_pred>0.5\n",
    "print(classification_report(np.array(y_test),y_pred))"
   ]
  },
  {
   "cell_type": "code",
   "execution_count": 39,
   "metadata": {},
   "outputs": [
    {
     "data": {
      "image/png": "[encoded data removed]",
      "text/plain": [
       "<Figure size 432x288 with 1 Axes>"
      ]
     },
     "metadata": {},
     "output_type": "display_data"
    }
   ],
   "source": [
    "import matplotlib.pyplot as plt\n",
    "loss_train = history.history['loss']\n",
    "loss_val = history.history['val_loss']\n",
    "epochs = range(1,101)\n",
    "plt.style.use('dark_background')\n",
    "plt.plot(epochs, loss_train, 'r', label='Training Loss')\n",
    "plt.plot(epochs, loss_val, 'b', label='Validation Loss')\n",
    "plt.title('Training and validation loss')\n",
    "plt.xlabel('Epochs')\n",
    "plt.ylabel('Loss')\n",
    "plt.legend()\n",
    "plt.show()\n",
    "# history.history.keys()"
   ]
  },
  {
   "cell_type": "code",
   "execution_count": 40,
   "metadata": {},
   "outputs": [
    {
     "data": {
      "image/png": "[encoded data removed]",
      "text/plain": [
       "<Figure size 432x288 with 1 Axes>"
      ]
     },
     "metadata": {},
     "output_type": "display_data"
    }
   ],
   "source": [
    "acc_train = history.history['accuracy']\n",
    "acc_val = history.history['val_accuracy']\n",
    "epochs = range(1,101)\n",
    "plt.plot(epochs, acc_train, 'r', label='Training Accuracy')\n",
    "plt.plot(epochs, acc_val, 'b', label='Validation Accuracy')\n",
    "plt.title('Training and Validation Accuracy')\n",
    "plt.xlabel('Epochs')\n",
    "plt.ylabel('Loss')\n",
    "plt.legend()\n",
    "plt.show()"
   ]
  },
  {
   "cell_type": "code",
   "execution_count": 43,
   "metadata": {},
   "outputs": [
    {
     "ename": "ValueError",
     "evalue": "cannot reshape array of size 1800 into shape (1800,589)",
     "output_type": "error",
     "traceback": [
      "\u001b[0;31m---------------------------------------------------------------------------\u001b[0m",
      "\u001b[0;31mValueError\u001b[0m                                Traceback (most recent call last)",
      "\u001b[0;32m<ipython-input-43-1608fc5d8ae2>\u001b[0m in \u001b[0;36m<module>\u001b[0;34m\u001b[0m\n\u001b[0;32m----> 1\u001b[0;31m \u001b[0msequence\u001b[0m\u001b[0;34m.\u001b[0m\u001b[0mreshape\u001b[0m\u001b[0;34m(\u001b[0m\u001b[0;36m1800\u001b[0m\u001b[0;34m,\u001b[0m \u001b[0;36m589\u001b[0m\u001b[0;34m)\u001b[0m\u001b[0;34m\u001b[0m\u001b[0;34m\u001b[0m\u001b[0m\n\u001b[0m",
      "\u001b[0;31mValueError\u001b[0m: cannot reshape array of size 1800 into shape (1800,589)"
     ]
    }
   ],
   "source": []
  }
 ],
 "metadata": {
  "accelerator": "GPU",
  "colab": {
   "collapsed_sections": [],
   "name": "H5 Avian Influenza Pathogenicity Classifier.ipynb",
   "provenance": []
  },
  "kernelspec": {
   "display_name": "Python 3",
   "language": "python",
   "name": "python3"
  },
  "language_info": {
   "codemirror_mode": {
    "name": "ipython",
    "version": 3
   },
   "file_extension": ".py",
   "mimetype": "text/x-python",
   "name": "python",
   "nbconvert_exporter": "python",
   "pygments_lexer": "ipython3",
   "version": "3.7.7"
  }
 },
 "nbformat": 4,
 "nbformat_minor": 1
}
